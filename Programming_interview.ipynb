{
 "cells": [
  {
   "cell_type": "markdown",
   "metadata": {},
   "source": [
    "# Welcome to Greensill's programming test\n",
    "\n",
    "This test is meant to be a live coding programming test to assess your logic, problem-solving and python programming skills.\n",
    "If you feel comfortable with a programming language different from python, feel free to use it to solve the proposed problems.\n",
    "\n",
    "Try to be calmed walk the interviewer through your strategy to solve the problem.\n",
    "\n",
    "__We wish you luck!__"
   ]
  },
  {
   "cell_type": "markdown",
   "source": [
    "## First couple warm up exercises"
   ],
   "metadata": {
    "collapsed": false,
    "pycharm": {
     "name": "#%% md\n"
    }
   }
  },
  {
   "cell_type": "markdown",
   "source": [
    "Write a function that returns the elements on odd positions in a list.\n",
    "None elements must be discarded\n",
    "\n",
    "Example:\n",
    "\n",
    "<br>```odd([1,2,3,4,5,6,7,8]) = [2,4,6,8]```\n",
    "<br>```odd([0,1,2,3,4,5,6,7,8]) = [0,2,4,6,8]```\n",
    "<br>```odd([]) = []```\n",
    "<br>```odd([None, None, None]) = []```\n",
    "<br>```odd([None,1,2,3,4,5,6,7,8]) = [2,4,6,8]```"
   ],
   "metadata": {
    "collapsed": false,
    "pycharm": {
     "name": "#%% md\n"
    }
   }
  },
  {
   "cell_type": "code",
   "execution_count": null,
   "outputs": [],
   "source": [
    "# write your code here"
   ],
   "metadata": {
    "collapsed": false,
    "pycharm": {
     "name": "#%%\n"
    }
   }
  },
  {
   "cell_type": "markdown",
   "source": [
    "Write a function that combines two lists by alternatingly taking elements.\n",
    "\n",
    "Example:\n",
    "<br>```alternate([a,b,c], [1,2,3]) = [a,1,b,2,c,3]```\n",
    "<br>```alternate([1,3,5], [2,4,6]) = [1,2,3,4,5,6]```\n",
    "<br>```alternate([1,2,3], [4,5,6]) = [1,4,3,5,3,6]```"
   ],
   "metadata": {
    "collapsed": false,
    "pycharm": {
     "name": "#%% md\n"
    }
   }
  },
  {
   "cell_type": "code",
   "execution_count": null,
   "outputs": [],
   "source": [
    "# write your code here"
   ],
   "metadata": {
    "collapsed": false,
    "pycharm": {
     "name": "#%%\n"
    }
   }
  },
  {
   "cell_type": "markdown",
   "metadata": {},
   "source": [
    "## Problem 1\n",
    "Given the fibonacci series, implement an algorithm to generate the n-th fibonacci number\n",
    "\n",
    "fibonacci def:\n",
    "<br>fib(n) = fib(n-1)+fib(n-2) when n>=2\n",
    "<br>fib(1) = fib(0) = 1\n",
    "\n",
    "Example:\n",
    "\n",
    "<br>```fib(-1) = Error```\n",
    "<br>```fib(0) = 1```\n",
    "<br>```fib(1) = 1```\n",
    "<br>```fib(2) = 2```\n",
    "<br>```fib(3) = 3```\n",
    "<br>```fib(4) = 5```"
   ]
  },
  {
   "cell_type": "code",
   "execution_count": null,
   "metadata": {},
   "outputs": [],
   "source": [
    "# your code here"
   ]
  },
  {
   "cell_type": "markdown",
   "metadata": {},
   "source": [
    "## Problem 2\n",
    "given an unsorted array of unique numbers write and algorithm to sort it\n",
    "\n",
    "example:\n",
    "\n",
    "<br>```sort([100,3, 25, 6, 13, 7, 11, 10, 15, 50,]) = [3, 6, 7, 10, 11, 13, 15, 50, 100]```\n",
    "<br>```sort([3, 6, 7, 10, 11, 13, 15, 50, 100]) = [3, 6, 7, 10, 11, 13, 15, 50, 100]```"
   ]
  },
  {
   "cell_type": "code",
   "execution_count": null,
   "metadata": {},
   "outputs": [],
   "source": [
    "# your code here"
   ]
  },
  {
   "cell_type": "markdown",
   "metadata": {},
   "source": [
    "## Problem 3\n",
    "\n",
    "__palindrome__: is sequence of characters that reads the same backwards as forwards\n",
    "\n",
    "write an algorithm that detects if a given sequence of characters is a palindrome\n",
    "\n",
    "example:\n",
    "<br>```palindrome('Kayak') = True```\n",
    "<br>```palindrome('level') = True```\n",
    "<br>```palindrome('plain') = False```"
   ]
  },
  {
   "cell_type": "code",
   "execution_count": null,
   "metadata": {},
   "outputs": [],
   "source": [
    "# your code here"
   ]
  },
  {
   "cell_type": "markdown",
   "metadata": {},
   "source": [
    "## Problem 4\n",
    "\n",
    "Now you have a sorted array use it and write an algorithm to find an element in it returning its position.\n",
    "\n",
    "example:\n",
    "\n",
    "input: [3, 6, 7, 10, 11, 13, 15, 50, 100]\n",
    "\n",
    "<br>```find([3, 6, 7, 10, 11, 13, 15, 50, 100], 100) = 8```\n",
    "<br>```find([3, 6, 7, 10, 11, 13, 15, 50, 100], 7) = 2```\n",
    "<br>```find([3, 6, 7, 10, 11, 13, 15, 50, 100], 150) = -1```"
   ]
  },
  {
   "cell_type": "code",
   "execution_count": null,
   "metadata": {},
   "outputs": [],
   "source": [
    "# your code here"
   ]
  },
  {
   "cell_type": "markdown",
   "metadata": {},
   "source": [
    "## Problem 5\n",
    "\n",
    "Given and input of an integer of any length, write an algorithm that sums all the individual digits of the input and keep doing so until the result is one single digit number.\n",
    "\n",
    "Example:\n",
    "\n",
    "<br>```reduce(12345764456) = 2```\n",
    "<br>```reduce(12395414456) = 8```\n",
    "<br>```reduce(9545764536) = 9```"
   ]
  },
  {
   "cell_type": "code",
   "execution_count": 7,
   "metadata": {},
   "outputs": [],
   "source": [
    "# your code here"
   ]
  },
  {
   "cell_type": "markdown",
   "metadata": {},
   "source": [
    "## Problem 5.1\n",
    "\n",
    "What's the complexity of your solution?"
   ]
  },
  {
   "cell_type": "markdown",
   "metadata": {},
   "source": [
    "# your code here"
   ]
  },
  {
   "cell_type": "markdown",
   "metadata": {},
   "source": [
    "## Problem 6\n",
    "\n",
    "Given a list of integers with repeated values, delete the repeated values from it in a new list\n",
    "\n",
    "example:\n",
    "<br>```drop_duplicates([1,3,5,7,15,3,12,10,5,20,10,5]) = [1,3,5,7,15,12,10,20]```\n",
    "<br>```drop_duplicates([1,3,5,7,15,12,10,20]) = [1,3,5,7,15,12,10,20]```\n",
    "<br>```drop_duplicates([1,3,5,7,15,3,12,10,5,20,None,5]) = [1,3,5,7,15,12,10,20]```\n",
    "<br>```drop_duplicates([]) = []```\n",
    "<br>```drop_duplicates([None, None, None]) = []```"
   ]
  },
  {
   "cell_type": "code",
   "execution_count": null,
   "metadata": {},
   "outputs": [],
   "source": [
    "# your code here"
   ]
  },
  {
   "cell_type": "markdown",
   "metadata": {},
   "source": [
    "## Problem 7\n",
    "\n",
    "Given two variables with any value, swap them without using a third variable"
   ]
  },
  {
   "cell_type": "code",
   "execution_count": null,
   "metadata": {},
   "outputs": [],
   "source": [
    "a = 10\n",
    "b = 25\n",
    "\n",
    "# your code here\n",
    "\n",
    "\n",
    "######\n",
    "\n",
    "print(f'a= {a}')\n",
    "print(f'b= {b}')"
   ]
  },
  {
   "cell_type": "markdown",
   "metadata": {},
   "source": [
    "## Problem 8\n",
    "\n",
    "Write an algorithm to find a given word in a given string, and return the exact word as found in the string\n",
    "\n",
    "example:\n",
    "<br>```find_word('this is a test', 'test') = test```\n",
    "<br>```find_word('This Is a Test', 'test') = Test```\n",
    "<br>```find_word('tHiS iS a TeSt', 'Test') = TeSt```\n",
    "<br>```find_word('tHiS iS a TeSt', 'plain') = False```"
   ]
  },
  {
   "cell_type": "code",
   "execution_count": null,
   "metadata": {},
   "outputs": [],
   "source": [
    "# your code here"
   ]
  },
  {
   "cell_type": "markdown",
   "metadata": {},
   "source": [
    "## Problem 9\n",
    "\n",
    "Write an algorithm to calculate the days of difference between today and any given date in the future or the past.\n",
    "\n",
    "example:\n",
    "\n",
    "<br>```days_between('Feb 30 2021') = Error. Date not exists```\n",
    "<br>```days_between(datetime.now()) = 0 days```\n",
    "<br>```days_between('01/01/2021') = 54 days from 01/01/2021```\n",
    "<br>```days_between(datetime(2022, 02, 01)) = 342 days until 01/02/2022```"
   ]
  },
  {
   "cell_type": "code",
   "execution_count": null,
   "metadata": {},
   "outputs": [],
   "source": [
    "# your code here"
   ]
  },
  {
   "cell_type": "markdown",
   "metadata": {},
   "source": [
    "## Problem 10\n",
    "\n",
    "Given the file contacts.csv write a script to read the file and allow searching for a name and print the information as show in the example.\n",
    "\n",
    "Example:\n",
    "\n",
    "<br>```find_contcat('John Doe')\n",
    "Output: \n",
    "    Jhon Doe: \n",
    "        Phone: +57 3216549\n",
    "        Address: Fake St. 123```\n",
    "    \n",
    "<br>```find_contcat('john doe')\n",
    "Output: \n",
    "    Jhon Doe: \n",
    "        Phone: +57 3216549\n",
    "        Address: Fake St. 123```"
   ]
  },
  {
   "cell_type": "code",
   "execution_count": 3,
   "metadata": {},
   "outputs": [],
   "source": [
    "# the file contacts.csv already in the same root as the notebook exists. Just open it using python.\n",
    "# the columns of the file are: Name, Phone, Address\n",
    "\n",
    "# your code here"
   ]
  }
 ],
 "metadata": {
  "kernelspec": {
   "display_name": "Python 3",
   "language": "python",
   "name": "python3"
  },
  "language_info": {
   "codemirror_mode": {
    "name": "ipython",
    "version": 3
   },
   "file_extension": ".py",
   "mimetype": "text/x-python",
   "name": "python",
   "nbconvert_exporter": "python",
   "pygments_lexer": "ipython3",
   "version": "3.6.9"
  }
 },
 "nbformat": 4,
 "nbformat_minor": 4
}