{
 "cells": [
  {
   "cell_type": "markdown",
   "metadata": {
    "collapsed": true,
    "pycharm": {
     "name": "#%% md\n"
    }
   },
   "source": [
    "# **SQL test**\n",
    "\n",
    "Wellcome to Omnilatam.\n",
    "\n",
    "The goal of this test is to evaluate your SQL skills.\n",
    "\n",
    "Good luck!"
   ]
  },
  {
   "cell_type": "markdown",
   "metadata": {},
   "source": [
    "# **SQL**\n",
    "\n",
    "The server executes a pre-configured database instace. This environment will use the ***postgres*** engine.\n",
    "Don't worry if this engine is not familiar to you. All the questions can be solved using ***ANSI SQL***.\n",
    "\n",
    "\n",
    "```\n",
    "In order to execute the SQL sentences, put the %%sql at the beginning of the cell.\n",
    "```\n",
    "\n",
    "Example:\n",
    "\n",
    "\n",
    "```\n",
    "%%sql\n",
    "SELECT table_name\n",
    "FROM information_schema.tables\n",
    "WHERE table_schema = 'public'\n",
    "ORDER BY table_name;\n",
    "```\n",
    "\n"
   ]
  },
  {
   "cell_type": "code",
   "execution_count": 1,
   "metadata": {
    "pycharm": {
     "name": "#%%\n"
    }
   },
   "outputs": [],
   "source": [
    "%load_ext sql\n",
    "%config SqlMagic.feedback=False\n",
    "%config SqlMagic.autopandas=True\n",
    "%config SqlMagic.short_errors=False\n",
    "%sql postgresql://localhost/postgres"
   ]
  },
  {
   "cell_type": "code",
   "execution_count": null,
   "metadata": {
    "pycharm": {
     "name": "#%%\n"
    },
    "scrolled": false
   },
   "outputs": [],
   "source": [
    "%%sql\n",
    "SELECT table_name\n",
    "FROM information_schema.tables\n",
    "WHERE table_schema = 'public'\n",
    "ORDER BY table_name;"
   ]
  },
  {
   "cell_type": "markdown",
   "metadata": {},
   "source": [
    "\n",
    "The current database, contains the tables ***game***,  ***goal***,  ***eteam***\n",
    "\n",
    "Entity-relationship model:\n",
    "\n",
    "![FootballERD](FootballERD.png)\n",
    "\n",
    "Sample data:\n",
    "\n",
    ">table: ***game***\n",
    "\n",
    ">id | mdate | stadium | team1 | team2\n",
    ">--- | --- | --- | --- | ---\n",
    ">1001\t| 8 June 2012 |\tNational Stadium, Warsaw | POL | GRE\n",
    ">1002\t| 8 June 2012\t| Stadion Miejski (Wroclaw) | RUS |\tCZE\n",
    ">1003\t| 12 June 2012 | Stadion Miejski (Wroclaw) | GRE |CZE\n",
    ">...\t| ... | ... | ... |...\n",
    ">1004\t| 12 June 2012 | National Stadium, Warsaw | POL | RUS\n",
    "\n",
    ">table: ***goal***\n",
    "\n",
    ">matchid | teamid | player | gtime\n",
    ">--- | --- | --- | ---\n",
    ">1001 | POL | Robert Lewandowski | 17\n",
    ">1001 | GRE | Dimitris Salpingidis | 51\n",
    ">... | ... | ... | ...\n",
    ">1002 | RUS | Alan Dzagoev | 15\n",
    ">1002 | RUS | Roman Pavlyuchenko | 82\n",
    "\n",
    ">table: ***eteam***\n",
    "\n",
    ">id\t| teamname | coach\n",
    ">--- | --- | ---\n",
    ">POL | Poland | Franciszek Smuda\n",
    ">RUS | Russia | Dick Advocaat\n",
    ">CZE | Czech Republic | Michal Bilek\n",
    ">... | ... | ...\n",
    ">GRE | Greece | Fernando Santos\n",
    "\n",
    "These tables contain all the matches and goals of the UEFA EURO 2012 tournament.\n",
    "\n"
   ]
  },
  {
   "cell_type": "markdown",
   "metadata": {},
   "source": [
    "# **SQL - Question #1**\n",
    "This example show a goal scored by the player 'Bender' (lastname).\n",
    "\n",
    "\n",
    "```\n",
    "SELECT *\n",
    "FROM goal\n",
    "WHERE player LIKE '%Bender'\n",
    "```\n",
    "\n",
    "Modify the query to show the matchid and the player name for all the goals scored by Germany (GER)."
   ]
  },
  {
   "cell_type": "code",
   "execution_count": null,
   "metadata": {
    "pycharm": {
     "name": "#%%\n"
    },
    "scrolled": false
   },
   "outputs": [],
   "source": [
    "%%sql"
   ]
  },
  {
   "cell_type": "markdown",
   "metadata": {},
   "source": [
    "# **SQL - Question #2**\n",
    "Show the team name and the total amount of goals scored by the team.\n",
    "\n",
    "Expected result:\n",
    ">teamname | team1\n",
    ">--- | ---\n",
    ">Italy\t| 6\n",
    ">Czech Republic\t| 4\n",
    ">Germany | 10"
   ]
  },
  {
   "cell_type": "code",
   "execution_count": null,
   "metadata": {
    "pycharm": {
     "name": "#%%\n"
    }
   },
   "outputs": [],
   "source": [
    "%%sql"
   ]
  },
  {
   "cell_type": "markdown",
   "metadata": {},
   "source": [
    "# **SQL - Question #3**\n",
    "\n",
    "The next query shows all the goals scored in the match between Germany (GER) and Greece (GRE).\n",
    "```\n",
    "SELECT player, gtime\n",
    "FROM game JOIN goal ON matchid = id\n",
    "WHERE team1 = 'GER' AND team2 = 'GRE'\n",
    "```\n",
    "Modify the query to show the name of all the players that scored, at least once, against Germany."
   ]
  },
  {
   "cell_type": "code",
   "execution_count": null,
   "metadata": {
    "pycharm": {
     "name": "#%%\n"
    }
   },
   "outputs": [],
   "source": [
    "%%sql"
   ]
  },
  {
   "cell_type": "markdown",
   "metadata": {},
   "source": [
    "# **SQL - Question #4**\n",
    "\n",
    "Show all the matches with the goals scored by each team, following the format:\n",
    "\n",
    ">mdate | team1 |\tscore1 |\tteam2 | score2\n",
    ">--- | --- | --- | --- | ---\n",
    ">10 June 2012 |\tESP |\t1\t| ITA\t| 1\n",
    ">10 June 2012\t| IRL |\t1\t| CRO |\t3\n",
    ">11 June 2012\t| FRA\t| 1\t| ENG\t| 1\n",
    ">... |\t...\t| ...\t| ...\t| ...\n",
    ">8 June 2012\t| RUS\t| 4\t| CZE\t| 1\n",
    ">9 June 2012\t| GER\t| 1\t| POR\t| 0\n",
    ">9 June 2012\t| NED\t| 0\t| DEN\t| 1\n",
    "\n",
    "\n",
    "\n",
    "Take a look at the query. If it was a goal scored by the team1, then a 1 should appear in the score1. You could SUM this column to get the total amount of goals scored by the team1. Order your result by mdate, team1 and team2."
   ]
  },
  {
   "cell_type": "code",
   "execution_count": null,
   "metadata": {
    "pycharm": {
     "name": "#%%\n"
    }
   },
   "outputs": [],
   "source": [
    "%%sql"
   ]
  },
  {
   "cell_type": "markdown",
   "metadata": {},
   "source": [
    "\n",
    "# **SQL - Question #5**\n",
    "\n",
    "For each match where Germany scored at least once, return the matchid, mdate and number of goals scored by the team.\n",
    "\n",
    "Expected result:\n",
    ">matchid | mdate | count\n",
    ">--|--|--|\n",
    ">1008 |\t9 June 2012\t| 1\n",
    ">1010\t| 13 June 2012\t| 2\n",
    ">--|--|--|"
   ]
  },
  {
   "cell_type": "code",
   "execution_count": null,
   "metadata": {
    "pycharm": {
     "name": "#%%\n"
    }
   },
   "outputs": [],
   "source": [
    "%%sql"
   ]
  }
 ],
 "metadata": {
  "kernelspec": {
   "display_name": "Python 3",
   "language": "python",
   "name": "python3"
  },
  "language_info": {
   "codemirror_mode": {
    "name": "ipython",
    "version": 3
   },
   "file_extension": ".py",
   "mimetype": "text/x-python",
   "name": "python",
   "nbconvert_exporter": "python",
   "pygments_lexer": "ipython3",
   "version": "3.6.9"
  }
 },
 "nbformat": 4,
 "nbformat_minor": 1
}
