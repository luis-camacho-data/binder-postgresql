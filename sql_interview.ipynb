{
 "cells": [
  {
   "cell_type": "markdown",
   "metadata": {
    "collapsed": true,
    "pycharm": {
     "name": "#%% md\n"
    }
   },
   "source": [
    "# **Concurso - SQL & Programación**\n",
    "\n",
    "Bienvenido a Omnilatam.\n",
    "\n",
    "Esta prueba está enfocada en identificar y evaluar sus habilidades frente al uso de herramientas como SQL.\n",
    "\n",
    "¡Éxitos en su prueba!"
   ]
  },
  {
   "cell_type": "markdown",
   "source": [
    "# **SQL**\n",
    "\n",
    "El servidor ejecuta una instancia de base de datos, este entorno utilizara el motor de base de datos ***postgres***, no se preocupe si no esta familiarizado con este motor, el SQL necesario esta basado en ***ANSI SQL***.\n",
    "\n",
    "\n",
    "\n",
    "```\n",
    "Para ejecutar las sentencias de consulta SQL coloque el simbolo %%sql al principio de la celda.\n",
    "```\n",
    "\n",
    "Ejemplo:\n",
    "\n",
    "\n",
    "```\n",
    "%%sql\n",
    "SELECT table_name\n",
    "FROM information_schema.tables\n",
    "WHERE table_schema = 'public'\n",
    "ORDER BY table_name;\n",
    "```\n",
    "\n"
   ],
   "metadata": {
    "collapsed": false
   }
  },
  {
   "cell_type": "code",
   "execution_count": null,
   "outputs": [],
   "source": [
    "%load_ext sql\n",
    "%config SqlMagic.feedback=False\n",
    "%config SqlMagic.autopandas=True\n",
    "%config SqlMagic.short_errors=False\n",
    "%sql postgresql://localhost/postgres"
   ],
   "metadata": {
    "collapsed": false,
    "pycharm": {
     "name": "#%%\n"
    }
   }
  },
  {
   "cell_type": "code",
   "execution_count": null,
   "outputs": [],
   "source": [
    "%%sql\n",
    "SELECT table_name\n",
    "FROM information_schema.tables\n",
    "WHERE table_schema = 'public'\n",
    "ORDER BY table_name;"
   ],
   "metadata": {
    "collapsed": false,
    "pycharm": {
     "name": "#%%\n"
    }
   }
  },
  {
   "cell_type": "markdown",
   "source": [
    "\n",
    "El esquema de base de datos, contiene las tablas,  ***game***,  ***goal***,  ***eteam***\n",
    "\n",
    "Entidad relación:\n",
    "\n",
    "![FootballERD](FootballERD.png)\n",
    "\n",
    "Datos de ejemplo:\n",
    "\n",
    ">table: ***game***\n",
    "\n",
    ">id | mdate | stadium | team1 | team2\n",
    ">--- | --- | --- | --- | ---\n",
    ">1001\t| 8 June 2012 |\tNational Stadium, Warsaw | POL | GRE\n",
    ">1002\t| 8 June 2012\t| Stadion Miejski (Wroclaw) | RUS |\tCZE\n",
    ">1003\t| 12 June 2012 | Stadion Miejski (Wroclaw) | GRE |CZE\n",
    ">...\t| ... | ... | ... |...\n",
    ">1004\t| 12 June 2012 | National Stadium, Warsaw | POL | RUS\n",
    "\n",
    ">table: ***goal***\n",
    "\n",
    ">matchid | teamid | player | gtime\n",
    ">--- | --- | --- | ---\n",
    ">1001 | POL | Robert Lewandowski | 17\n",
    ">1001 | GRE | Dimitris Salpingidis | 51\n",
    ">... | ... | ... | ...\n",
    ">1002 | RUS | Alan Dzagoev | 15\n",
    ">1002 | RUS | Roman Pavlyuchenko | 82\n",
    "\n",
    ">table: ***eteam***\n",
    "\n",
    ">id\t| teamname | coach\n",
    ">--- | --- | ---\n",
    ">POL | Poland | Franciszek Smuda\n",
    ">RUS | Russia | Dick Advocaat\n",
    ">CZE | Czech Republic | Michal Bilek\n",
    ">... | ... | ...\n",
    ">GRE | Greece | Fernando Santos\n",
    "\n",
    "Estas tablas contienen todos los partidos y goles del Campeonato de Fútbol UEFA EURO 2012.\n",
    "\n"
   ],
   "metadata": {
    "collapsed": false
   }
  },
  {
   "cell_type": "markdown",
   "source": [
    "# **SQL - Pregunta #1**\n",
    "El ejemplo muestra el gol marcado por el jugador con apellido 'Bender'.\n",
    "\n",
    "\n",
    "```\n",
    "SELECT *\n",
    "FROM goal\n",
    "WHERE player LIKE '%Bender'\n",
    "```\n",
    "\n",
    "Modifíquelo para mostrar el matchid y el nombre del jugador (player) para todos los goles marcados por Alemania (GER). Con el fin de identificar los jugadores alemanes."
   ],
   "metadata": {
    "collapsed": false
   }
  },
  {
   "cell_type": "code",
   "execution_count": null,
   "outputs": [],
   "source": [
    "%%sql"
   ],
   "metadata": {
    "collapsed": false,
    "pycharm": {
     "name": "#%%\n"
    }
   }
  },
  {
   "cell_type": "markdown",
   "source": [
    "# **SQL - Pregunta #2**\n",
    "Muestra el nombre del equipo y el número total de goles marcados.\n",
    "\n",
    "Resultado esperado:\n",
    ">teamname | team1\n",
    ">--- | ---\n",
    ">Italy\t| 6\n",
    ">Czech Republic\t| 4\n",
    ">Germany | 10"
   ],
   "metadata": {
    "collapsed": false
   }
  },
  {
   "cell_type": "code",
   "execution_count": null,
   "outputs": [],
   "source": [
    "%%sql"
   ],
   "metadata": {
    "collapsed": false,
    "pycharm": {
     "name": "#%%\n"
    }
   }
  },
  {
   "cell_type": "markdown",
   "source": [
    "# **SQL - Pregunta #3**\n",
    "\n",
    "La consulta de ejemplo muestra todos los goles marcados en el partido entre Alemania (GER) y Grecia (GRE).\n",
    "```\n",
    "SELECT player, gtime\n",
    "FROM game JOIN goal ON matchid = id\n",
    "WHERE team1 = 'GER' AND team2 = 'GRE'\n",
    "```\n",
    "En su lugar, muestre el nombre de todos los jugadores que marcaron al menos un gol contra Alemania."
   ],
   "metadata": {
    "collapsed": false
   }
  },
  {
   "cell_type": "code",
   "execution_count": null,
   "outputs": [],
   "source": [
    "%%sql"
   ],
   "metadata": {
    "collapsed": false,
    "pycharm": {
     "name": "#%%\n"
    }
   }
  },
  {
   "cell_type": "markdown",
   "source": [
    "# **SQL - Pregunta #4**\n",
    "Liste cada partido con los goles marcados por cada equipo como se muestra a continuación.\n",
    "\n",
    ">mdate | team1 |\tscore1 |\tteam2 | score2\n",
    ">--- | --- | --- | --- | ---\n",
    ">10 June 2012 |\tESP |\t1\t| ITA\t| 1\n",
    ">10 June 2012\t| IRL |\t1\t| CRO |\t3\n",
    ">11 June 2012\t| FRA\t| 1\t| ENG\t| 1\n",
    ">... |\t...\t| ...\t| ...\t| ...\n",
    ">8 June 2012\t| RUS\t| 4\t| CZE\t| 1\n",
    ">9 June 2012\t| GER\t| 1\t| POR\t| 0\n",
    ">9 June 2012\t| NED\t| 0\t| DEN\t| 1\n",
    "\n",
    "\n",
    "Observe en la consulta. Si fue un gol del team1, aparece un 1 en el score1; de lo contrario, hay un 0. Podría SUMAR esta columna para obtener un recuento de los goles marcados por el team1. Ordene su resultado por mdate, team1 y team2."
   ],
   "metadata": {
    "collapsed": false
   }
  },
  {
   "cell_type": "code",
   "execution_count": null,
   "outputs": [],
   "source": [
    "%%sql"
   ],
   "metadata": {
    "collapsed": false,
    "pycharm": {
     "name": "#%%\n"
    }
   }
  },
  {
   "cell_type": "markdown",
   "source": [
    "\n",
    "# **SQL - Pregunta #5**\n",
    "\n",
    "Para cada partido donde Alemania anotó, retorne matchid, mdate y el número de goles marcados por este equipo.\n",
    "\n",
    "Resultado esperado:\n",
    ">matchid | mdate | count\n",
    ">--|--|--|\n",
    ">1008 |\t9 June 2012\t| 1\n",
    ">1010\t| 13 June 2012\t| 2\n",
    ">--|--|--|"
   ],
   "metadata": {
    "collapsed": false
   }
  },
  {
   "cell_type": "code",
   "execution_count": null,
   "outputs": [],
   "source": [
    "%%sql"
   ],
   "metadata": {
    "collapsed": false,
    "pycharm": {
     "name": "#%%\n"
    }
   }
  }
 ],
 "metadata": {
  "kernelspec": {
   "display_name": "Python 3",
   "language": "python",
   "name": "python3"
  },
  "language_info": {
   "codemirror_mode": {
    "name": "ipython",
    "version": 2
   },
   "file_extension": ".py",
   "mimetype": "text/x-python",
   "name": "python",
   "nbconvert_exporter": "python",
   "pygments_lexer": "ipython2",
   "version": "2.7.6"
  }
 },
 "nbformat": 4,
 "nbformat_minor": 0
}